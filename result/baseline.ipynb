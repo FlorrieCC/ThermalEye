version https://git-lfs.github.com/spec/v1
oid sha256:c209aa0f4562cfd8349187d7c009d45e9c67d0992554204213f148d8f5553ac8
size 260841
