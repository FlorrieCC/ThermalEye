{
 "cells": [
  {
   "cell_type": "code",
   "execution_count": 7,
   "metadata": {},
   "outputs": [
    {
     "name": "stdout",
     "output_type": "stream",
     "text": [
      "Total frames: 2370\n",
      "Dropped or delayed frames (>73.3 ms): 7\n",
      "  Frame 69 - Δt = 73.54 ms (between frame 68 and 69)\n",
      "  Frame 248 - Δt = 75.03 ms (between frame 247 and 248)\n",
      "  Frame 572 - Δt = 73.41 ms (between frame 571 and 572)\n",
      "  Frame 1055 - Δt = 79.42 ms (between frame 1054 and 1055)\n",
      "  Frame 1567 - Δt = 74.21 ms (between frame 1566 and 1567)\n",
      "  Frame 1926 - Δt = 76.02 ms (between frame 1925 and 1926)\n",
      "  Frame 2159 - Δt = 78.07 ms (between frame 2158 and 2159)\n"
     ]
    }
   ],
   "source": [
    "from datetime import datetime\n",
    "import numpy as np\n",
    "\n",
    "# Constants\n",
    "EXPECTED_FPS = 15\n",
    "EXPECTED_INTERVAL_MS = 1000 / EXPECTED_FPS  # ≈ 66.67 ms\n",
    "THRESHOLD_MS = 1.1 * EXPECTED_INTERVAL_MS   # define tolerance, e.g., 100 ms\n",
    "\n",
    "# Path to timestamp file\n",
    "ts_path = \"/home/yvonne/Documents/ThermalEye/real_data/frame_ts_output.txt\"\n",
    "\n",
    "# Load timestamps\n",
    "with open(ts_path, 'r') as f:\n",
    "    lines = f.readlines()\n",
    "\n",
    "# Parse timestamps\n",
    "timestamps = [datetime.fromisoformat(line.strip()) for line in lines]\n",
    "\n",
    "# Compute time differences in milliseconds\n",
    "diffs_ms = [\n",
    "    (timestamps[i] - timestamps[i - 1]).total_seconds() * 1000\n",
    "    for i in range(1, len(timestamps))\n",
    "]\n",
    "\n",
    "# Detect dropped/delayed frames\n",
    "dropped_indices = [i for i, diff in enumerate(diffs_ms, start=1) if diff > THRESHOLD_MS]\n",
    "\n",
    "# Report\n",
    "print(f\"Total frames: {len(timestamps)}\")\n",
    "print(f\"Dropped or delayed frames (>{THRESHOLD_MS:.1f} ms): {len(dropped_indices)}\")\n",
    "\n",
    "for i in dropped_indices:\n",
    "    print(f\"  Frame {i} - Δt = {diffs_ms[i-1]:.2f} ms (between frame {i-1} and {i})\")\n"
   ]
  },
  {
   "cell_type": "code",
   "execution_count": null,
   "metadata": {},
   "outputs": [
    {
     "name": "stdout",
     "output_type": "stream",
     "text": [
      "Total duration: 158.05 sec\n",
      "Expected frames (at 15 FPS): 2371\n",
      "Actual frames: 2370\n",
      "Estimated missing frames: 1\n",
      "Estimated frame loss rate: 0.04%\n"
     ]
    }
   ],
   "source": [
    "from datetime import datetime\n",
    "import numpy as np\n",
    "\n",
    "# Constants\n",
    "EXPECTED_FPS = 15\n",
    "EXPECTED_INTERVAL_MS = 1000 / EXPECTED_FPS  # ≈ 66.67 ms\n",
    "THRESHOLD_MS = 1.1 * EXPECTED_INTERVAL_MS   # 容差设为大约73.3ms\n",
    "\n",
    "# Path to timestamp file\n",
    "ts_path = \"/home/yvonne/Documents/ThermalEye/real_data/frame_ts_output.txt\"\n",
    "\n",
    "# 读取时间戳\n",
    "with open(ts_path, 'r') as f:\n",
    "    lines = f.readlines()\n",
    "\n",
    "# 解析时间戳\n",
    "timestamps = [datetime.fromisoformat(line.strip()) for line in lines]\n",
    "\n",
    "# 计算理论帧数 = 总时间 / 每帧间隔\n",
    "total_duration_sec = (timestamps[-1] - timestamps[0]).total_seconds()\n",
    "expected_frame_count = int(round(total_duration_sec * EXPECTED_FPS))\n",
    "actual_frame_count = len(timestamps)\n",
    "\n",
    "# 计算丢帧数和丢包率\n",
    "missing_frame_count = expected_frame_count - actual_frame_count\n",
    "loss_rate = missing_frame_count / expected_frame_count if expected_frame_count > 0 else 0\n",
    "\n",
    "# 打印报告\n",
    "print(f\"Total duration: {total_duration_sec:.2f} sec\")\n",
    "print(f\"Expected frames (at {EXPECTED_FPS} FPS): {expected_frame_count}\")\n",
    "print(f\"Actual frames: {actual_frame_count}\")\n",
    "print(f\"Estimated missing frames: {missing_frame_count}\")\n",
    "print(f\"Estimated frame loss rate: {loss_rate:.2%}\")\n"
   ]
  },
  {
   "cell_type": "code",
   "execution_count": 10,
   "metadata": {},
   "outputs": [
    {
     "name": "stdout",
     "output_type": "stream",
     "text": [
      "Total duration: 27.45 sec\n",
      "Expected frames (@16 FPS): 439\n",
      "Actual frames: 433\n",
      "Detected long intervals (> 75.0 ms): 145\n",
      "Estimated frame loss rate: 33.03%\n"
     ]
    }
   ],
   "source": [
    "import pickle\n",
    "from datetime import datetime\n",
    "\n",
    "# === CONFIG ===\n",
    "pkl_path = \"/home/yvonne/Documents/ThermalEye/ira_data/data_20250430_213332_036.pkl\"  # change to actual filename\n",
    "EXPECTED_FPS = 16\n",
    "EXPECTED_INTERVAL_MS = 1000 / EXPECTED_FPS  # 62.5 ms\n",
    "THRESHOLD_MS = 1.2 * EXPECTED_INTERVAL_MS   # ~75ms as tolerant upper bound\n",
    "\n",
    "# === Load timestamps ===\n",
    "with open(pkl_path, 'rb') as f:\n",
    "    data = pickle.load(f)\n",
    "    timestamps = data[\"timestamp\"]\n",
    "\n",
    "# === Parse ISO timestamps ===\n",
    "timestamps_dt = [datetime.fromisoformat(t) for t in timestamps]\n",
    "\n",
    "# === Compute intervals ===\n",
    "intervals_ms = [\n",
    "    (timestamps_dt[i] - timestamps_dt[i - 1]).total_seconds() * 1000\n",
    "    for i in range(1, len(timestamps_dt))\n",
    "]\n",
    "\n",
    "# === Count dropped frames ===\n",
    "dropped_frames = [i for i, delta in enumerate(intervals_ms) if delta > THRESHOLD_MS]\n",
    "missing_frame_count = len(dropped_frames)\n",
    "actual_frame_count = len(timestamps_dt)\n",
    "total_duration = (timestamps_dt[-1] - timestamps_dt[0]).total_seconds()\n",
    "expected_frame_count = int(round(total_duration * EXPECTED_FPS))\n",
    "loss_rate = missing_frame_count / expected_frame_count if expected_frame_count > 0 else 0\n",
    "\n",
    "# === Report ===\n",
    "print(f\"Total duration: {total_duration:.2f} sec\")\n",
    "print(f\"Expected frames (@{EXPECTED_FPS} FPS): {expected_frame_count}\")\n",
    "print(f\"Actual frames: {actual_frame_count}\")\n",
    "print(f\"Detected long intervals (> {THRESHOLD_MS:.1f} ms): {missing_frame_count}\")\n",
    "print(f\"Estimated frame loss rate: {loss_rate:.2%}\")\n"
   ]
  },
  {
   "cell_type": "code",
   "execution_count": 15,
   "metadata": {},
   "outputs": [
    {
     "name": "stdout",
     "output_type": "stream",
     "text": [
      "总时长: 27.45 秒\n",
      "理论帧数 (@16 FPS): 439\n",
      "实际帧数: 433\n",
      "估计丢帧数: 6\n",
      "丢帧率: 1.37%\n"
     ]
    }
   ],
   "source": [
    "import pickle\n",
    "from datetime import datetime\n",
    "\n",
    "# 配置\n",
    "pkl_path = \"/home/yvonne/Documents/ThermalEye/ira_data/data_20250430_213332_036.pkl\"  # ← 修改为你的真实文件路径\n",
    "EXPECTED_FPS = 16\n",
    "\n",
    "# 读取数据\n",
    "with open(pkl_path, 'rb') as f:\n",
    "    data = pickle.load(f)\n",
    "    timestamps = data[\"timestamp\"]\n",
    "\n",
    "# 解析时间戳\n",
    "timestamps_dt = [datetime.fromisoformat(t) for t in timestamps]\n",
    "\n",
    "# 计算时长\n",
    "start_time = timestamps_dt[0]\n",
    "end_time = timestamps_dt[-1]\n",
    "total_duration_sec = (end_time - start_time).total_seconds()\n",
    "\n",
    "# 理论帧数\n",
    "expected_frame_count = int(round(total_duration_sec * EXPECTED_FPS))\n",
    "actual_frame_count = len(timestamps)\n",
    "missing_frame_count = expected_frame_count - actual_frame_count\n",
    "loss_rate = missing_frame_count / expected_frame_count if expected_frame_count > 0 else 0\n",
    "\n",
    "# 打印结果\n",
    "print(f\"总时长: {total_duration_sec:.2f} 秒\")\n",
    "print(f\"理论帧数 (@{EXPECTED_FPS} FPS): {expected_frame_count}\")\n",
    "print(f\"实际帧数: {actual_frame_count}\")\n",
    "print(f\"估计丢帧数: {missing_frame_count}\")\n",
    "print(f\"丢帧率: {loss_rate:.2%}\")\n"
   ]
  }
 ],
 "metadata": {
  "kernelspec": {
   "display_name": "thermal",
   "language": "python",
   "name": "python3"
  },
  "language_info": {
   "codemirror_mode": {
    "name": "ipython",
    "version": 3
   },
   "file_extension": ".py",
   "mimetype": "text/x-python",
   "name": "python",
   "nbconvert_exporter": "python",
   "pygments_lexer": "ipython3",
   "version": "3.10.2"
  }
 },
 "nbformat": 4,
 "nbformat_minor": 2
}
