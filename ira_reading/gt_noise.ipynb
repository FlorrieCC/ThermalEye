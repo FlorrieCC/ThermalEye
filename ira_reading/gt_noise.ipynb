version https://git-lfs.github.com/spec/v1
oid sha256:fec2f627f6bd0a7e787c95cafab788c1e534c965026c6623c05affbf75e39495
size 335217
