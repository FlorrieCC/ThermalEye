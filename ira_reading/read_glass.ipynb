version https://git-lfs.github.com/spec/v1
oid sha256:f59665d9c0dd5d8e7a441af55b28232d524fd6eefaae7091b149e01d35d9452b
size 1157264
