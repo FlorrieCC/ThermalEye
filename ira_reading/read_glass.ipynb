version https://git-lfs.github.com/spec/v1
oid sha256:8b210d05d2a268e28f292b9455002ec8be871e4237927f5e0756807f6d71f803
size 1236703
