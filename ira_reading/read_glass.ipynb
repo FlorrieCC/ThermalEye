version https://git-lfs.github.com/spec/v1
oid sha256:2ea28dfb276bf7bf7a217bf69224de3ff5ae25039189e64690b4e388e5aed2c6
size 1241536
