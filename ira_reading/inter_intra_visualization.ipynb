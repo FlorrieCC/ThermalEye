version https://git-lfs.github.com/spec/v1
oid sha256:5812891bf770d00eac06e323a0feeca0ce738e51d6dd4d1572d16c241e392513
size 908458
