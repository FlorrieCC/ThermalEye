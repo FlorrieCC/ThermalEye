version https://git-lfs.github.com/spec/v1
oid sha256:5193a08d3439ee94973a0af383e550cdeb804de82c3072b9dcaa41b04a42e5e2
size 815202
