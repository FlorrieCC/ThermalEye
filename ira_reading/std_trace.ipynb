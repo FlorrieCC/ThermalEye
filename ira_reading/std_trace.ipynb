version https://git-lfs.github.com/spec/v1
oid sha256:ba5900b279ab460711068d8861dce9fb56d373d2a79cfd096b62e9a0b6b8ae44
size 588682
