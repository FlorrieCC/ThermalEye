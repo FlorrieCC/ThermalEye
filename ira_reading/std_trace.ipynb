version https://git-lfs.github.com/spec/v1
oid sha256:563de92285239ca62d06362c80e0e76dce1ba702fd07672b9a886c2e8919c3ad
size 609109
