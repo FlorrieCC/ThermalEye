version https://git-lfs.github.com/spec/v1
oid sha256:bf138f0103528f1cb6269d3307380341cc6d5d9f1171e62284e9944395d62506
size 614809
