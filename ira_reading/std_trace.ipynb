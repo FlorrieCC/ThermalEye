version https://git-lfs.github.com/spec/v1
oid sha256:30a5b5363366149350410b27fbbb54ed3e415ec6bdef0f67252652b62f367d8a
size 575828
