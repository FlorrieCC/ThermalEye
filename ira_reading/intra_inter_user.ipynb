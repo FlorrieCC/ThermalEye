version https://git-lfs.github.com/spec/v1
oid sha256:314ad3cd84a6e87db0209771a048267cd555a2e138b56d7bc2e4c16419696352
size 867534
