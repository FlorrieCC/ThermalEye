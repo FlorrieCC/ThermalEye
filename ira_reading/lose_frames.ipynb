version https://git-lfs.github.com/spec/v1
oid sha256:b132a28a85acfa9cbf8fd8fdf475c638c63a9fd68bdc9e518099e9566dff28ae
size 300835
